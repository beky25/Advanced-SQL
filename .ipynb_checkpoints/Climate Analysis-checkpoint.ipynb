{
 "cells": [
  {
   "cell_type": "code",
   "execution_count": 19,
   "metadata": {},
   "outputs": [],
   "source": [
    "# Dependencies\n",
    "import numpy as np\n",
    "import pandas as pd\n",
    "import matplotlib.pyplot as plt\n",
    "from matplotlib import style\n",
    "style.use('fivethirtyeight')"
   ]
  },
  {
   "cell_type": "code",
   "execution_count": 20,
   "metadata": {},
   "outputs": [],
   "source": [
    "# Python SQL toolkit and Object Relational Mapper\n",
    "import sqlalchemy\n",
    "from sqlalchemy import create_engine, MetaData\n",
    "from sqlalchemy.ext.declarative import declarative_base\n",
    "from sqlalchemy import create_engine, inspect, func"
   ]
  },
  {
   "cell_type": "code",
   "execution_count": 21,
   "metadata": {},
   "outputs": [],
   "source": [
    " #Create an engine to a SQLite database file called `surfsup.sqlite`\n",
    "engine = create_engine(\"sqlite:///Resources/hawaii.sqlite\")\n",
    "from sqlalchemy.orm import Session"
   ]
  },
  {
   "cell_type": "code",
   "execution_count": 22,
   "metadata": {},
   "outputs": [],
   "source": [
    "# Connect to database to be able to run test queries\n",
    "session = Session(bind=engine)\n",
    "\n",
    "inspector = inspect(engine)\n",
    "inspector.get_table_names()\n",
    "\n",
    "\n",
    "from sqlalchemy.ext.automap import automap_base\n",
    "\n",
    "# Reflect Database into ORM class\n",
    "Base = automap_base()\n",
    "Base.prepare(engine, reflect=True)\n",
    "Measurement = Base.classes.measurement\n",
    "Station = Base.classes.station\n"
   ]
  },
  {
   "cell_type": "code",
   "execution_count": 23,
   "metadata": {},
   "outputs": [
    {
     "data": {
      "text/plain": [
       "2223"
      ]
     },
     "execution_count": 23,
     "metadata": {},
     "output_type": "execute_result"
    }
   ],
   "source": [
    "\n",
    "# Query all tobs values\n",
    "results = session.query(Measurement.tobs).all()\n",
    "\n",
    "# Convert list of tuples into normal list\n",
    "tobs_values = list(np.ravel(results))\n",
    "len(tobs_values)\n",
    "\n",
    "# Query for last 12 months of precipitation\n",
    "last_12_months_precipitation = session.query(Measurement.date, Measurement.prcp).\\\n",
    "        filter(Measurement.date >= '2016-08-24').filter(Measurement.date <= '2017-08-23').order_by(Measurement.date).all()\n",
    "\n",
    "len(last_12_months_precipitation)"
   ]
  },
  {
   "cell_type": "code",
   "execution_count": 24,
   "metadata": {},
   "outputs": [],
   "source": [
    "# Set above query results to dataframe\n",
    "df_last12months_precipitation = pd.DataFrame(data=last_12_months_precipitation)\n",
    "df_last12months_precipitation.head(10)\n",
    "\n",
    "df_last12months_precipitation = df_last12months_precipitation.set_index(\"date\")\n",
    "df_last12months_precipitation.head(10)\n",
    "\n",
    "# Define  x-ticks labels\n",
    "mths = [\"Sep\", \"Oct\", \"Nov\", \"Dec\", \"Jan\", \"Feb\", \"Mar\", \"Apr\", \"May\", \"Jun\", \"Jul\", \"Aug\"]\n",
    "\n",
    "# Define X and Y values\n",
    "y = df_last12months_precipitation[\"prcp\"].tolist()\n",
    "x = np.arange(0, len(df_last12months_precipitation.index.tolist()), 1)"
   ]
  },
  {
   "cell_type": "code",
   "execution_count": 27,
   "metadata": {},
   "outputs": [
    {
     "data": {
      "image/png": "[encoded data removed]",
      "text/plain": [
       "<Figure size 432x288 with 1 Axes>"
      ]
     },
     "metadata": {},
     "output_type": "display_data"
    }
   ],
   "source": [
    "# Define X-tick labels (months) and their positioning\n",
    "mth_total = len(y)\n",
    "mth_steps = int((mth_total / 12)*1.03)\n",
    "\n",
    "tick_locs = [x+55 for x in range(1, mth_total, mth_steps)]\n",
    "\n",
    "# Define plot\n",
    "plt.bar(x, y, width=25, color=\"lightskyblue\", alpha=0.75, align=\"edge\")\n",
    "\n",
    "# Define labels\n",
    "plt.title(\"Precipitation for last 12 Months\")\n",
    "plt.xlabel(\"Month\")\n",
    "plt.ylabel(\"Precipitation in inches\")\n",
    "plt.xticks(tick_locs, mths)\n",
    "plt.ylim = max(y) + 1\n",
    "\n",
    "plt.show()\n"
   ]
  },
  {
   "cell_type": "code",
   "execution_count": 16,
   "metadata": {},
   "outputs": [
    {
     "name": "stdout",
     "output_type": "stream",
     "text": [
      "Total number of stations: 9\n"
     ]
    },
    {
     "data": {
      "text/plain": [
       "[('USC00519281', 2772),\n",
       " ('USC00519397', 2724),\n",
       " ('USC00513117', 2709),\n",
       " ('USC00519523', 2669),\n",
       " ('USC00516128', 2612),\n",
       " ('USC00514830', 2202),\n",
       " ('USC00511918', 1979),\n",
       " ('USC00517948', 1372),\n",
       " ('USC00518838', 511)]"
      ]
     },
     "execution_count": 16,
     "metadata": {},
     "output_type": "execute_result"
    }
   ],
   "source": [
    "# Total number of stations\n",
    "totalnumber_of_stations = session.query(func.count(Station.station)).first()\n",
    "\n",
    "\n",
    "# Print results of above count query\n",
    "print(f\"Total number of stations: {str(totalnumber_of_stations[0])}\")\n",
    "\n",
    "\n",
    "# What are the most active stations?\n",
    "# List the stations and the counts of station observations in descending order.\n",
    "station_list = engine.execute(\"SELECT station, count(station) FROM measurement GROUP BY station \\\n",
    "                               ORDER BY count(station) DESC\").fetchall()\n",
    "\n",
    "station_list"
   ]
  },
  {
   "cell_type": "code",
   "execution_count": 17,
   "metadata": {},
   "outputs": [
    {
     "name": "stdout",
     "output_type": "stream",
     "text": [
      "Station with most observations (2772): USC00519281\n"
     ]
    }
   ],
   "source": [
    "# Query to find the most active stations\n",
    "active_stations_descending = session.query(Measurement.station, func.count(Measurement.station)).\\\n",
    "        group_by(Measurement.station).order_by(func.count(Measurement.station).desc()).all()\n",
    "\n",
    "# Set above query results to dataframe\n",
    "df_active_stations_descending = pd.DataFrame(data=active_stations_descending, columns=['Station', 'Count'])\n",
    "df_active_stations_descending.head()\n",
    "\n",
    "# Set station with highest number of observations to a variable\n",
    "station_with_most_observations = df_active_stations_descending[\"Station\"][0]\n",
    "most_observations = df_active_stations_descending[\"Count\"][0]\n",
    "print(f\"Station with most observations ({most_observations}): {station_with_most_observations}\")\n",
    "\n",
    "# Query for temperature counts (a) for the last year and (b) at the most active station\n",
    "temperature_frequencies = session.query(Measurement.tobs).\\\n",
    "    filter(Measurement.date >= '2016-08-24').\\\n",
    "    filter(Measurement.station == station_with_most_observations).\\\n",
    "    order_by(Measurement.tobs).all()"
   ]
  },
  {
   "cell_type": "code",
   "execution_count": 18,
   "metadata": {},
   "outputs": [
    {
     "data": {
      "image/png": "[encoded data removed]",
      "text/plain": [
       "<Figure size 432x288 with 1 Axes>"
      ]
     },
     "metadata": {},
     "output_type": "display_data"
    }
   ],
   "source": [
    "    \n",
    "#temperature_frequencies\n",
    "\n",
    "# Define the histogram from the above dataset, with 12 bins\n",
    "hist, bins = np.histogram(temperature_frequencies, bins=12)\n",
    "x = np.arange(1,13,1)\n",
    "# Set bar width to the number of values between each bin\n",
    "width = bins[1] - bins[0]\n",
    "\n",
    "# Plot the bar graph from the histogram data\n",
    "plt.bar(x, hist, width=width)\n",
    "\n",
    "plt.grid(True)\n",
    "\n",
    "#plt.legend(loc='best')\n",
    "           \n",
    "plt.show()"
   ]
  },
  {
   "cell_type": "code",
   "execution_count": null,
   "metadata": {},
   "outputs": [],
   "source": []
  },
  {
   "cell_type": "code",
   "execution_count": null,
   "metadata": {},
   "outputs": [],
   "source": []
  }
 ],
 "metadata": {
  "kernelspec": {
   "display_name": "Python 3",
   "language": "python",
   "name": "python3"
  },
  "language_info": {
   "codemirror_mode": {
    "name": "ipython",
    "version": 3
   },
   "file_extension": ".py",
   "mimetype": "text/x-python",
   "name": "python",
   "nbconvert_exporter": "python",
   "pygments_lexer": "ipython3",
   "version": "3.6.5"
  }
 },
 "nbformat": 4,
 "nbformat_minor": 2
}
